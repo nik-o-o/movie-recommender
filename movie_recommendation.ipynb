{
  "nbformat": 4,
  "nbformat_minor": 0,
  "metadata": {
    "colab": {
      "name": "movie-recommendation.ipynb",
      "provenance": [],
      "collapsed_sections": [],
      "toc_visible": true,
      "authorship_tag": "ABX9TyP9qBvWtSoJU/Hi+a8J+llh",
      "include_colab_link": true
    },
    "kernelspec": {
      "name": "python3",
      "display_name": "Python 3"
    }
  },
  "cells": [
    {
      "cell_type": "markdown",
      "metadata": {
        "id": "view-in-github",
        "colab_type": "text"
      },
      "source": [
        "<a href=\"https://colab.research.google.com/github/nik-o-o/movie-recommender/blob/main/movie_recommendation.ipynb\" target=\"_parent\"><img src=\"https://colab.research.google.com/assets/colab-badge.svg\" alt=\"Open In Colab\"/></a>"
      ]
    },
    {
      "cell_type": "markdown",
      "metadata": {
        "id": "VzwNJk8uLKJL"
      },
      "source": [
        "# INTRODUCTION\n",
        "\n",
        "This is a recommendation engine for movies for users based on their past behaviour.\n",
        "\n",
        "Approach used : Collaborative Filtering, that is:\n",
        "                The user is recommended items that people with similar tastes and preferences liked in the past. In another words, this method predicts unknown ratings by using the similarities between the users."
      ]
    },
    {
      "cell_type": "markdown",
      "metadata": {
        "id": "TPhbZLz1MFa-"
      },
      "source": [
        "# Packages Used:\n",
        "- pandas\n",
        "- matplotlib\n",
        "- numpy\n",
        "- scikit-surprise"
      ]
    },
    {
      "cell_type": "code",
      "metadata": {
        "id": "QIgkdamoMWxr",
        "outputId": "a3ffd34a-c9a5-4bca-e0d5-785f7f7e2865",
        "colab": {
          "base_uri": "https://localhost:8080/",
          "height": 403
        }
      },
      "source": [
        "print('>> Installing Libraries.')\n",
        "!pip3 install pandas matplotlib numpy scikit-surprise\n",
        "print('>> Libraries Installed.')"
      ],
      "execution_count": 1,
      "outputs": [
        {
          "output_type": "stream",
          "text": [
            ">> Installing Libraries.\n",
            "Requirement already satisfied: pandas in /usr/local/lib/python3.6/dist-packages (1.1.2)\n",
            "Requirement already satisfied: matplotlib in /usr/local/lib/python3.6/dist-packages (3.2.2)\n",
            "Requirement already satisfied: numpy in /usr/local/lib/python3.6/dist-packages (1.18.5)\n",
            "Collecting scikit-surprise\n",
            "\u001b[?25l  Downloading https://files.pythonhosted.org/packages/97/37/5d334adaf5ddd65da99fc65f6507e0e4599d092ba048f4302fe8775619e8/scikit-surprise-1.1.1.tar.gz (11.8MB)\n",
            "\u001b[K     |████████████████████████████████| 11.8MB 4.2MB/s \n",
            "\u001b[?25hRequirement already satisfied: pytz>=2017.2 in /usr/local/lib/python3.6/dist-packages (from pandas) (2018.9)\n",
            "Requirement already satisfied: python-dateutil>=2.7.3 in /usr/local/lib/python3.6/dist-packages (from pandas) (2.8.1)\n",
            "Requirement already satisfied: kiwisolver>=1.0.1 in /usr/local/lib/python3.6/dist-packages (from matplotlib) (1.2.0)\n",
            "Requirement already satisfied: pyparsing!=2.0.4,!=2.1.2,!=2.1.6,>=2.0.1 in /usr/local/lib/python3.6/dist-packages (from matplotlib) (2.4.7)\n",
            "Requirement already satisfied: cycler>=0.10 in /usr/local/lib/python3.6/dist-packages (from matplotlib) (0.10.0)\n",
            "Requirement already satisfied: joblib>=0.11 in /usr/local/lib/python3.6/dist-packages (from scikit-surprise) (0.16.0)\n",
            "Requirement already satisfied: scipy>=1.0.0 in /usr/local/lib/python3.6/dist-packages (from scikit-surprise) (1.4.1)\n",
            "Requirement already satisfied: six>=1.10.0 in /usr/local/lib/python3.6/dist-packages (from scikit-surprise) (1.15.0)\n",
            "Building wheels for collected packages: scikit-surprise\n",
            "  Building wheel for scikit-surprise (setup.py) ... \u001b[?25l\u001b[?25hdone\n",
            "  Created wheel for scikit-surprise: filename=scikit_surprise-1.1.1-cp36-cp36m-linux_x86_64.whl size=1670920 sha256=713d72d686b6856a9bb3f725f405b46100af24a3c4d4f1cf25f69f111fc16386\n",
            "  Stored in directory: /root/.cache/pip/wheels/78/9c/3d/41b419c9d2aff5b6e2b4c0fc8d25c538202834058f9ed110d0\n",
            "Successfully built scikit-surprise\n",
            "Installing collected packages: scikit-surprise\n",
            "Successfully installed scikit-surprise-1.1.1\n",
            ">> Libraries Installed.\n"
          ],
          "name": "stdout"
        }
      ]
    },
    {
      "cell_type": "code",
      "metadata": {
        "id": "XRqyWYxgMsig",
        "outputId": "5bb10d5e-36c2-4d9a-ec38-6c90d56900cf",
        "colab": {
          "base_uri": "https://localhost:8080/",
          "height": 50
        }
      },
      "source": [
        "print('>> Importing Libraries...')\n",
        "\n",
        "import pandas as pd\n",
        "from surprise import Reader, Dataset, SVD\n",
        "from surprise.accuracy import rmse, mae\n",
        "from surprise.model_selection import cross_validate\n",
        "\n",
        "print('>> Libraries Imported.')"
      ],
      "execution_count": 2,
      "outputs": [
        {
          "output_type": "stream",
          "text": [
            ">> Importing Libraries...\n",
            ">> Libraries Imported.\n"
          ],
          "name": "stdout"
        }
      ]
    },
    {
      "cell_type": "markdown",
      "metadata": {
        "id": "UJfi9SOyNYus"
      },
      "source": [
        "# Importing Data\n",
        "The open-source dataset is taken from  GroupLens Research (movielens.org)"
      ]
    },
    {
      "cell_type": "code",
      "metadata": {
        "id": "PhRs_SSQNVhC",
        "outputId": "2055b296-c714-4193-bf12-3bb02c8cd416",
        "colab": {
          "base_uri": "https://localhost:8080/",
          "height": 195
        }
      },
      "source": [
        "df = pd.read_csv('ratings.csv')\n",
        "df.head()"
      ],
      "execution_count": 24,
      "outputs": [
        {
          "output_type": "execute_result",
          "data": {
            "text/html": [
              "<div>\n",
              "<style scoped>\n",
              "    .dataframe tbody tr th:only-of-type {\n",
              "        vertical-align: middle;\n",
              "    }\n",
              "\n",
              "    .dataframe tbody tr th {\n",
              "        vertical-align: top;\n",
              "    }\n",
              "\n",
              "    .dataframe thead th {\n",
              "        text-align: right;\n",
              "    }\n",
              "</style>\n",
              "<table border=\"1\" class=\"dataframe\">\n",
              "  <thead>\n",
              "    <tr style=\"text-align: right;\">\n",
              "      <th></th>\n",
              "      <th>userId</th>\n",
              "      <th>movieId</th>\n",
              "      <th>rating</th>\n",
              "      <th>timestamp</th>\n",
              "    </tr>\n",
              "  </thead>\n",
              "  <tbody>\n",
              "    <tr>\n",
              "      <th>0</th>\n",
              "      <td>1</td>\n",
              "      <td>1</td>\n",
              "      <td>4.0</td>\n",
              "      <td>964982703</td>\n",
              "    </tr>\n",
              "    <tr>\n",
              "      <th>1</th>\n",
              "      <td>1</td>\n",
              "      <td>3</td>\n",
              "      <td>4.0</td>\n",
              "      <td>964981247</td>\n",
              "    </tr>\n",
              "    <tr>\n",
              "      <th>2</th>\n",
              "      <td>1</td>\n",
              "      <td>6</td>\n",
              "      <td>4.0</td>\n",
              "      <td>964982224</td>\n",
              "    </tr>\n",
              "    <tr>\n",
              "      <th>3</th>\n",
              "      <td>1</td>\n",
              "      <td>47</td>\n",
              "      <td>5.0</td>\n",
              "      <td>964983815</td>\n",
              "    </tr>\n",
              "    <tr>\n",
              "      <th>4</th>\n",
              "      <td>1</td>\n",
              "      <td>50</td>\n",
              "      <td>5.0</td>\n",
              "      <td>964982931</td>\n",
              "    </tr>\n",
              "  </tbody>\n",
              "</table>\n",
              "</div>"
            ],
            "text/plain": [
              "   userId  movieId  rating  timestamp\n",
              "0       1        1     4.0  964982703\n",
              "1       1        3     4.0  964981247\n",
              "2       1        6     4.0  964982224\n",
              "3       1       47     5.0  964983815\n",
              "4       1       50     5.0  964982931"
            ]
          },
          "metadata": {
            "tags": []
          },
          "execution_count": 24
        }
      ]
    },
    {
      "cell_type": "code",
      "metadata": {
        "id": "dMc18bmvN1A3",
        "outputId": "d66b64c8-7b47-414b-b9bc-7e28ecbc84fa",
        "colab": {
          "base_uri": "https://localhost:8080/",
          "height": 195
        }
      },
      "source": [
        "# Dropping the 'timestamp' column as it is not needed.\n",
        "df.drop('timestamp', axis = 1, inplace = True) # inplace => dropping will take place in the same df. No new df will be created or returned.\n",
        "df.head()"
      ],
      "execution_count": 25,
      "outputs": [
        {
          "output_type": "execute_result",
          "data": {
            "text/html": [
              "<div>\n",
              "<style scoped>\n",
              "    .dataframe tbody tr th:only-of-type {\n",
              "        vertical-align: middle;\n",
              "    }\n",
              "\n",
              "    .dataframe tbody tr th {\n",
              "        vertical-align: top;\n",
              "    }\n",
              "\n",
              "    .dataframe thead th {\n",
              "        text-align: right;\n",
              "    }\n",
              "</style>\n",
              "<table border=\"1\" class=\"dataframe\">\n",
              "  <thead>\n",
              "    <tr style=\"text-align: right;\">\n",
              "      <th></th>\n",
              "      <th>userId</th>\n",
              "      <th>movieId</th>\n",
              "      <th>rating</th>\n",
              "    </tr>\n",
              "  </thead>\n",
              "  <tbody>\n",
              "    <tr>\n",
              "      <th>0</th>\n",
              "      <td>1</td>\n",
              "      <td>1</td>\n",
              "      <td>4.0</td>\n",
              "    </tr>\n",
              "    <tr>\n",
              "      <th>1</th>\n",
              "      <td>1</td>\n",
              "      <td>3</td>\n",
              "      <td>4.0</td>\n",
              "    </tr>\n",
              "    <tr>\n",
              "      <th>2</th>\n",
              "      <td>1</td>\n",
              "      <td>6</td>\n",
              "      <td>4.0</td>\n",
              "    </tr>\n",
              "    <tr>\n",
              "      <th>3</th>\n",
              "      <td>1</td>\n",
              "      <td>47</td>\n",
              "      <td>5.0</td>\n",
              "    </tr>\n",
              "    <tr>\n",
              "      <th>4</th>\n",
              "      <td>1</td>\n",
              "      <td>50</td>\n",
              "      <td>5.0</td>\n",
              "    </tr>\n",
              "  </tbody>\n",
              "</table>\n",
              "</div>"
            ],
            "text/plain": [
              "   userId  movieId  rating\n",
              "0       1        1     4.0\n",
              "1       1        3     4.0\n",
              "2       1        6     4.0\n",
              "3       1       47     5.0\n",
              "4       1       50     5.0"
            ]
          },
          "metadata": {
            "tags": []
          },
          "execution_count": 25
        }
      ]
    },
    {
      "cell_type": "code",
      "metadata": {
        "id": "1Lj54N7JRyXw",
        "outputId": "97f8acae-263e-40f5-e264-1af9744d5622",
        "colab": {
          "base_uri": "https://localhost:8080/",
          "height": 84
        }
      },
      "source": [
        "# Checking for Missing Data\n",
        "df.isna().sum()"
      ],
      "execution_count": 27,
      "outputs": [
        {
          "output_type": "execute_result",
          "data": {
            "text/plain": [
              "userId     0\n",
              "movieId    0\n",
              "rating     0\n",
              "dtype: int64"
            ]
          },
          "metadata": {
            "tags": []
          },
          "execution_count": 27
        }
      ]
    },
    {
      "cell_type": "markdown",
      "metadata": {
        "id": "RXQft3loUUqh"
      },
      "source": [
        "# EDA (Exploratory Data Analysis)"
      ]
    },
    {
      "cell_type": "code",
      "metadata": {
        "id": "zryk_zBZR6B1",
        "outputId": "749b7490-e903-4720-b066-bef1b4a87093",
        "colab": {
          "base_uri": "https://localhost:8080/",
          "height": 50
        }
      },
      "source": [
        "# Number of Movies/Users\n",
        "n_movies = df[\"movieId\"].nunique()\n",
        "n_users = df[\"userId\"].nunique()\n",
        "print(f'Number of unique movies = {n_movies}')\n",
        "print(f'Number of unique users = {n_users}')"
      ],
      "execution_count": 28,
      "outputs": [
        {
          "output_type": "stream",
          "text": [
            "Number of unique movies = 9724\n",
            "Number of unique users = 610\n"
          ],
          "name": "stdout"
        }
      ]
    },
    {
      "cell_type": "markdown",
      "metadata": {
        "id": "KLTPczSiU692"
      },
      "source": [
        "### Sparsity of Data\n",
        "`sparsity(%) = (No of missing values/ (Total values)) * 100`"
      ]
    },
    {
      "cell_type": "code",
      "metadata": {
        "id": "AJ3-an6ZSfJU",
        "outputId": "ae0453ef-e113-418a-b0b9-882a38af4923",
        "colab": {
          "base_uri": "https://localhost:8080/",
          "height": 34
        }
      },
      "source": [
        "available_ratings = df['rating'].count()\n",
        "total_ratings = n_movies * n_users\n",
        "missing_ratings = total_ratings - available_ratings\n",
        "sparsity = (missing_ratings / total_ratings) * 100\n",
        "print(f'sparsity = {sparsity}')"
      ],
      "execution_count": 30,
      "outputs": [
        {
          "output_type": "stream",
          "text": [
            "sparsity = 98.30003169443864\n"
          ],
          "name": "stdout"
        }
      ]
    },
    {
      "cell_type": "markdown",
      "metadata": {
        "id": "s0a8ikSjVvUK"
      },
      "source": [
        "### Rating Distribution"
      ]
    },
    {
      "cell_type": "code",
      "metadata": {
        "id": "F0iFQYLqVpnU",
        "outputId": "268b636e-facd-48c1-a048-8256e4b2245c",
        "colab": {
          "base_uri": "https://localhost:8080/",
          "height": 288
        }
      },
      "source": [
        "df['rating'].value_counts().plot(kind = 'bar')"
      ],
      "execution_count": 31,
      "outputs": [
        {
          "output_type": "execute_result",
          "data": {
            "text/plain": [
              "<matplotlib.axes._subplots.AxesSubplot at 0x7f592e6b64a8>"
            ]
          },
          "metadata": {
            "tags": []
          },
          "execution_count": 31
        },
        {
          "output_type": "display_data",
          "data": {
            "image/png": "[encoded data removed]",
            "text/plain": [
              "<Figure size 432x288 with 1 Axes>"
            ]
          },
          "metadata": {
            "tags": [],
            "needs_background": "light"
          }
        }
      ]
    },
    {
      "cell_type": "markdown",
      "metadata": {
        "id": "gPGqoJPFV8qB"
      },
      "source": [
        "# Dimensionality Reduction\n",
        "To reduce the dimensionality of the dataset, filter out rarely rated movies and rarely rating users"
      ]
    },
    {
      "cell_type": "markdown",
      "metadata": {
        "id": "WH1i0vHPWL2C"
      },
      "source": [
        "### Filter movies with less than 3 ratings"
      ]
    },
    {
      "cell_type": "code",
      "metadata": {
        "id": "uS8d43TaV4MC"
      },
      "source": [
        "filter_movies = df['movieId'].value_counts() > 3\n",
        "filter_movies = filter_movies[filter_movies].index.to_list()"
      ],
      "execution_count": 33,
      "outputs": []
    },
    {
      "cell_type": "markdown",
      "metadata": {
        "id": "W0kt7xykWkIv"
      },
      "source": [
        "### Filter users with less than 3 movies rated"
      ]
    },
    {
      "cell_type": "code",
      "metadata": {
        "id": "23uMacKzWeMK"
      },
      "source": [
        "filter_users = df['userId'].value_counts() > 3\n",
        "filter_users = filter_users[filter_users].index.to_list()"
      ],
      "execution_count": 34,
      "outputs": []
    },
    {
      "cell_type": "markdown",
      "metadata": {
        "id": "P__Vh2S6WyPw"
      },
      "source": [
        "### Remove rarely rated movies and rarely rating users"
      ]
    },
    {
      "cell_type": "code",
      "metadata": {
        "id": "dDILdOpjWvuc",
        "outputId": "bf3d95ec-eb1f-4b0a-ec6a-1b366d858804",
        "colab": {
          "base_uri": "https://localhost:8080/",
          "height": 50
        }
      },
      "source": [
        "print(f'Original shape : {df.shape}')\n",
        "df = df[(df['movieId'].isin(filter_movies)) & (df['userId'].isin(filter_users))]\n",
        "print(f'New shape : {df.shape}')"
      ],
      "execution_count": 35,
      "outputs": [
        {
          "output_type": "stream",
          "text": [
            "Original shape : (100836, 3)\n",
            "New shape : (92394, 3)\n"
          ],
          "name": "stdout"
        }
      ]
    },
    {
      "cell_type": "markdown",
      "metadata": {
        "id": "Opfm_28qXUpg"
      },
      "source": [
        "# Creating Training and Test sets"
      ]
    },
    {
      "cell_type": "code",
      "metadata": {
        "id": "5-Urb7A6XR8k"
      },
      "source": [
        "cols = ['userId', 'movieId', 'rating']\n",
        "\n",
        "# surprise dataset\n",
        "reader = Reader(rating_scale = (0.5, 5))\n",
        "data = Dataset.load_from_df(df[cols], reader)\n",
        "\n",
        "# trainset and prediction set\n",
        "trainset = data.build_full_trainset()\n",
        "antiset = trainset.build_anti_testset()"
      ],
      "execution_count": 42,
      "outputs": []
    },
    {
      "cell_type": "markdown",
      "metadata": {
        "id": "ztlj2ho_ZOlC"
      },
      "source": [
        "# Creating and Training the Model\n"
      ]
    },
    {
      "cell_type": "markdown",
      "metadata": {
        "id": "qL1vzGj3ZnyK"
      },
      "source": [
        "### Creating the Model\n",
        "SVD (Singular Value Decomposition)"
      ]
    },
    {
      "cell_type": "code",
      "metadata": {
        "id": "NYgl_WRvYsQu"
      },
      "source": [
        "algo = SVD(n_epochs = 5, verbose = True)\n"
      ],
      "execution_count": 43,
      "outputs": []
    },
    {
      "cell_type": "markdown",
      "metadata": {
        "id": "2EToFbUzZs7q"
      },
      "source": [
        "### Training the model\n",
        "Mean Absolute Error (MAE): MAE measures the average magnitudeof the errors in a set of predictions, without considering direction.\n",
        "\n",
        "Root Mean Squared Error (RMSE): RMSE is the squared root of the average of the squeared differences between prediction and observation."
      ]
    },
    {
      "cell_type": "code",
      "metadata": {
        "id": "vsnpjBiJZsTu",
        "outputId": "2d2dcd59-b3a4-4f67-b662-c7abdfcf2a3f",
        "colab": {
          "base_uri": "https://localhost:8080/",
          "height": 571
        }
      },
      "source": [
        "cross_validate(algo, data, measures = ['rmse', 'mae'], cv = 5, verbose = True)\n",
        "print('>> Training Done.')"
      ],
      "execution_count": 44,
      "outputs": [
        {
          "output_type": "stream",
          "text": [
            "Processing epoch 0\n",
            "Processing epoch 1\n",
            "Processing epoch 2\n",
            "Processing epoch 3\n",
            "Processing epoch 4\n",
            "Processing epoch 0\n",
            "Processing epoch 1\n",
            "Processing epoch 2\n",
            "Processing epoch 3\n",
            "Processing epoch 4\n",
            "Processing epoch 0\n",
            "Processing epoch 1\n",
            "Processing epoch 2\n",
            "Processing epoch 3\n",
            "Processing epoch 4\n",
            "Processing epoch 0\n",
            "Processing epoch 1\n",
            "Processing epoch 2\n",
            "Processing epoch 3\n",
            "Processing epoch 4\n",
            "Processing epoch 0\n",
            "Processing epoch 1\n",
            "Processing epoch 2\n",
            "Processing epoch 3\n",
            "Processing epoch 4\n",
            "Evaluating RMSE, MAE of algorithm SVD on 5 split(s).\n",
            "\n",
            "                  Fold 1  Fold 2  Fold 3  Fold 4  Fold 5  Mean    Std     \n",
            "RMSE (testset)    0.8889  0.8788  0.8765  0.8884  0.8842  0.8834  0.0050  \n",
            "MAE (testset)     0.6878  0.6825  0.6761  0.6849  0.6821  0.6827  0.0039  \n",
            "Fit time          1.30    1.29    1.32    1.31    1.30    1.31    0.01    \n",
            "Test time         0.28    0.15    0.27    0.13    0.27    0.22    0.06    \n",
            ">> Training Done.\n"
          ],
          "name": "stdout"
        }
      ]
    },
    {
      "cell_type": "markdown",
      "metadata": {
        "id": "hZS0_USAaksL"
      },
      "source": [
        "# Predictions"
      ]
    },
    {
      "cell_type": "code",
      "metadata": {
        "id": "B1VU0lYLaeiU"
      },
      "source": [
        "predictions = algo.test(antiset)"
      ],
      "execution_count": 45,
      "outputs": []
    },
    {
      "cell_type": "code",
      "metadata": {
        "id": "WlllteDLau3J",
        "outputId": "27187303-04f7-4e92-8d5b-466e765a0b5b",
        "colab": {
          "base_uri": "https://localhost:8080/",
          "height": 34
        }
      },
      "source": [
        "predictions[0]"
      ],
      "execution_count": 46,
      "outputs": [
        {
          "output_type": "execute_result",
          "data": {
            "text/plain": [
              "Prediction(uid=1, iid=318, r_ui=3.529119856267723, est=4.986374271166494, details={'was_impossible': False})"
            ]
          },
          "metadata": {
            "tags": []
          },
          "execution_count": 46
        }
      ]
    },
    {
      "cell_type": "markdown",
      "metadata": {
        "id": "lzgpefepbN-4"
      },
      "source": [
        "## Recommending top 3 Movies based on predictions"
      ]
    },
    {
      "cell_type": "code",
      "metadata": {
        "id": "M2D6UW4SbIOq"
      },
      "source": [
        "from collections import defaultdict\n",
        "\n",
        "def get_top_n(predictions, n):\n",
        "  top_n = defaultdict(list)\n",
        "  \n",
        "  for uid, iid, _, est, _ in predictions:\n",
        "    top_n[uid].append((iid, est))\n",
        "  \n",
        "  for uid, user_ratings in top_n.items():\n",
        "    user_ratings.sort(key = lambda x: x[1], reverse = True)\n",
        "    top_n[uid] = user_ratings[:n]\n",
        "\n",
        "  return top_n\n",
        "\n",
        "top_n = get_top_n(predictions, n = 3)"
      ],
      "execution_count": 47,
      "outputs": []
    },
    {
      "cell_type": "code",
      "metadata": {
        "id": "NpAJpPGncdol",
        "outputId": "014ac10e-f874-4752-c34e-cbd90420e8fb",
        "colab": {
          "base_uri": "https://localhost:8080/",
          "height": 1000
        }
      },
      "source": [
        "for uid, user_ratings in top_n.items():\n",
        "  print(\"UserId \" + str(uid) + \" should watch MovieIds : \" + str([iid for (iid, rating) in user_ratings]))"
      ],
      "execution_count": 52,
      "outputs": [
        {
          "output_type": "stream",
          "text": [
            "UserId 1 should watch MovieIds : [318, 58559, 750]\n",
            "UserId 2 should watch MovieIds : [1089, 858, 1213]\n",
            "UserId 3 should watch MovieIds : [858, 318, 7361]\n",
            "UserId 4 should watch MovieIds : [318, 48516, 356]\n",
            "UserId 5 should watch MovieIds : [2959, 1617, 750]\n",
            "UserId 6 should watch MovieIds : [2329, 1221, 858]\n",
            "UserId 7 should watch MovieIds : [318, 1198, 2329]\n",
            "UserId 8 should watch MovieIds : [912, 1136, 2959]\n",
            "UserId 9 should watch MovieIds : [2959, 318, 2329]\n",
            "UserId 10 should watch MovieIds : [50, 318, 7361]\n",
            "UserId 11 should watch MovieIds : [7361, 50, 48516]\n",
            "UserId 12 should watch MovieIds : [2959, 58559, 858]\n",
            "UserId 13 should watch MovieIds : [858, 5618, 904]\n",
            "UserId 14 should watch MovieIds : [858, 1089, 50]\n",
            "UserId 15 should watch MovieIds : [50, 1193, 48516]\n",
            "UserId 16 should watch MovieIds : [48516, 1288, 1259]\n",
            "UserId 17 should watch MovieIds : [912, 1028, 608]\n",
            "UserId 18 should watch MovieIds : [750, 2858, 1204]\n",
            "UserId 19 should watch MovieIds : [318, 858, 50]\n",
            "UserId 20 should watch MovieIds : [318, 296, 858]\n",
            "UserId 21 should watch MovieIds : [318, 1089, 1193]\n",
            "UserId 22 should watch MovieIds : [1197, 527, 1089]\n",
            "UserId 23 should watch MovieIds : [2959, 318, 58559]\n",
            "UserId 24 should watch MovieIds : [1208, 1148, 858]\n",
            "UserId 25 should watch MovieIds : [318, 858, 1617]\n",
            "UserId 26 should watch MovieIds : [318, 527, 1222]\n",
            "UserId 27 should watch MovieIds : [318, 2959, 1193]\n",
            "UserId 28 should watch MovieIds : [4973, 750, 1225]\n",
            "UserId 29 should watch MovieIds : [1221, 1197, 7361]\n",
            "UserId 30 should watch MovieIds : [296, 1221, 750]\n",
            "UserId 31 should watch MovieIds : [858, 1221, 318]\n",
            "UserId 32 should watch MovieIds : [58559, 2571, 858]\n",
            "UserId 33 should watch MovieIds : [58559, 1089, 2329]\n",
            "UserId 34 should watch MovieIds : [1197, 912, 1196]\n",
            "UserId 35 should watch MovieIds : [318, 2959, 858]\n",
            "UserId 36 should watch MovieIds : [1258, 1270, 1193]\n",
            "UserId 37 should watch MovieIds : [527, 260, 858]\n",
            "UserId 38 should watch MovieIds : [750, 2959, 58559]\n",
            "UserId 39 should watch MovieIds : [318, 7361, 58559]\n",
            "UserId 40 should watch MovieIds : [750, 2959, 58559]\n",
            "UserId 41 should watch MovieIds : [318, 58559, 1196]\n",
            "UserId 42 should watch MovieIds : [750, 1198, 4973]\n",
            "UserId 43 should watch MovieIds : [50, 260, 527]\n",
            "UserId 44 should watch MovieIds : [2329, 318, 593]\n",
            "UserId 45 should watch MovieIds : [318, 1208, 1193]\n",
            "UserId 46 should watch MovieIds : [1193, 58559, 4973]\n",
            "UserId 47 should watch MovieIds : [1221, 4973, 50]\n",
            "UserId 48 should watch MovieIds : [318, 356, 750]\n",
            "UserId 49 should watch MovieIds : [858, 2959, 541]\n",
            "UserId 50 should watch MovieIds : [527, 912, 1197]\n",
            "UserId 51 should watch MovieIds : [318, 1198, 1197]\n",
            "UserId 52 should watch MovieIds : [296, 858, 1193]\n",
            "UserId 53 should watch MovieIds : [318, 60069, 750]\n",
            "UserId 54 should watch MovieIds : [527, 2959, 1199]\n",
            "UserId 55 should watch MovieIds : [318, 4993, 50]\n",
            "UserId 56 should watch MovieIds : [50, 2959, 7153]\n",
            "UserId 57 should watch MovieIds : [318, 58559, 48516]\n",
            "UserId 58 should watch MovieIds : [1617, 1089, 1196]\n",
            "UserId 59 should watch MovieIds : [2329, 50, 318]\n",
            "UserId 60 should watch MovieIds : [750, 1089, 5618]\n",
            "UserId 61 should watch MovieIds : [296, 2858, 1197]\n",
            "UserId 62 should watch MovieIds : [50, 2858, 1213]\n",
            "UserId 63 should watch MovieIds : [4973, 904, 68157]\n",
            "UserId 64 should watch MovieIds : [912, 58559, 750]\n",
            "UserId 65 should watch MovieIds : [1221, 110, 457]\n",
            "UserId 66 should watch MovieIds : [2329, 750, 858]\n",
            "UserId 67 should watch MovieIds : [50, 7361, 58559]\n",
            "UserId 68 should watch MovieIds : [750, 904, 111]\n",
            "UserId 69 should watch MovieIds : [2329, 4973, 527]\n",
            "UserId 70 should watch MovieIds : [2959, 50, 750]\n",
            "UserId 71 should watch MovieIds : [318, 1221, 50]\n",
            "UserId 72 should watch MovieIds : [541, 5618, 2959]\n",
            "UserId 73 should watch MovieIds : [318, 1197, 527]\n",
            "UserId 74 should watch MovieIds : [58559, 318, 260]\n",
            "UserId 75 should watch MovieIds : [1089, 750, 318]\n",
            "UserId 76 should watch MovieIds : [50, 4993, 904]\n",
            "UserId 77 should watch MovieIds : [50, 318, 1704]\n",
            "UserId 78 should watch MovieIds : [58559, 1221, 858]\n",
            "UserId 79 should watch MovieIds : [750, 50, 318]\n",
            "UserId 80 should watch MovieIds : [296, 1196, 1213]\n",
            "UserId 81 should watch MovieIds : [2959, 527, 2329]\n",
            "UserId 82 should watch MovieIds : [318, 2959, 7361]\n",
            "UserId 83 should watch MovieIds : [1197, 296, 1136]\n",
            "UserId 84 should watch MovieIds : [750, 1221, 58559]\n",
            "UserId 85 should watch MovieIds : [318, 2329, 50]\n",
            "UserId 86 should watch MovieIds : [296, 541, 858]\n",
            "UserId 87 should watch MovieIds : [318, 858, 296]\n",
            "UserId 88 should watch MovieIds : [2959, 260, 1136]\n",
            "UserId 89 should watch MovieIds : [318, 527, 50]\n",
            "UserId 90 should watch MovieIds : [2959, 318, 58559]\n",
            "UserId 91 should watch MovieIds : [2329, 33794, 2858]\n",
            "UserId 92 should watch MovieIds : [2959, 7361, 318]\n",
            "UserId 93 should watch MovieIds : [1089, 1617, 1276]\n",
            "UserId 94 should watch MovieIds : [2959, 1198, 858]\n",
            "UserId 95 should watch MovieIds : [318, 1136, 296]\n",
            "UserId 96 should watch MovieIds : [318, 1197, 2959]\n",
            "UserId 97 should watch MovieIds : [318, 58559, 904]\n",
            "UserId 98 should watch MovieIds : [318, 2329, 1221]\n",
            "UserId 99 should watch MovieIds : [1089, 2329, 356]\n",
            "UserId 100 should watch MovieIds : [50, 318, 1089]\n",
            "UserId 101 should watch MovieIds : [318, 58559, 5618]\n",
            "UserId 102 should watch MovieIds : [527, 50, 2959]\n",
            "UserId 103 should watch MovieIds : [908, 2502, 2858]\n",
            "UserId 104 should watch MovieIds : [318, 1196, 50]\n",
            "UserId 105 should watch MovieIds : [1136, 1196, 1270]\n",
            "UserId 106 should watch MovieIds : [1089, 58559, 750]\n",
            "UserId 107 should watch MovieIds : [58559, 2959, 50]\n",
            "UserId 108 should watch MovieIds : [858, 750, 1089]\n",
            "UserId 109 should watch MovieIds : [858, 750, 1193]\n",
            "UserId 110 should watch MovieIds : [750, 2288, 318]\n",
            "UserId 111 should watch MovieIds : [858, 1208, 1089]\n",
            "UserId 112 should watch MovieIds : [318, 1193, 296]\n",
            "UserId 113 should watch MovieIds : [2959, 318, 296]\n",
            "UserId 114 should watch MovieIds : [318, 527, 58559]\n",
            "UserId 115 should watch MovieIds : [318, 2959, 50]\n",
            "UserId 116 should watch MovieIds : [318, 50, 7361]\n",
            "UserId 117 should watch MovieIds : [1221, 2959, 858]\n",
            "UserId 118 should watch MovieIds : [318, 2959, 912]\n",
            "UserId 119 should watch MovieIds : [2959, 1197, 750]\n",
            "UserId 120 should watch MovieIds : [750, 48516, 318]\n",
            "UserId 121 should watch MovieIds : [1258, 2959, 50]\n",
            "UserId 122 should watch MovieIds : [110, 527, 1198]\n",
            "UserId 123 should watch MovieIds : [7361, 50, 750]\n",
            "UserId 124 should watch MovieIds : [2959, 750, 527]\n",
            "UserId 125 should watch MovieIds : [904, 1617, 1197]\n",
            "UserId 126 should watch MovieIds : [50, 858, 1196]\n",
            "UserId 127 should watch MovieIds : [750, 2329, 58559]\n",
            "UserId 128 should watch MovieIds : [318, 541, 50]\n",
            "UserId 129 should watch MovieIds : [318, 858, 904]\n",
            "UserId 130 should watch MovieIds : [48516, 2959, 1193]\n",
            "UserId 131 should watch MovieIds : [1197, 904, 527]\n",
            "UserId 132 should watch MovieIds : [527, 111, 608]\n",
            "UserId 133 should watch MovieIds : [2959, 858, 1197]\n",
            "UserId 134 should watch MovieIds : [318, 2959, 1213]\n",
            "UserId 135 should watch MovieIds : [58559, 48516, 7153]\n",
            "UserId 136 should watch MovieIds : [4973, 260, 1196]\n",
            "UserId 137 should watch MovieIds : [58559, 1704, 2329]\n",
            "UserId 138 should watch MovieIds : [858, 318, 750]\n",
            "UserId 139 should watch MovieIds : [318, 1196, 2959]\n",
            "UserId 140 should watch MovieIds : [750, 58559, 1197]\n",
            "UserId 141 should watch MovieIds : [904, 750, 2858]\n",
            "UserId 142 should watch MovieIds : [58559, 318, 750]\n",
            "UserId 143 should watch MovieIds : [318, 50, 260]\n",
            "UserId 144 should watch MovieIds : [1136, 318, 858]\n",
            "UserId 145 should watch MovieIds : [1193, 541, 858]\n",
            "UserId 146 should watch MovieIds : [318, 2571, 1193]\n",
            "UserId 147 should watch MovieIds : [318, 858, 296]\n",
            "UserId 148 should watch MovieIds : [58559, 1089, 318]\n",
            "UserId 149 should watch MovieIds : [318, 1193, 6711]\n",
            "UserId 150 should watch MovieIds : [260, 904, 318]\n",
            "UserId 151 should watch MovieIds : [1199, 1221, 7361]\n",
            "UserId 152 should watch MovieIds : [1089, 1258, 1199]\n",
            "UserId 153 should watch MovieIds : [58559, 1221, 1136]\n",
            "UserId 154 should watch MovieIds : [858, 593, 2959]\n",
            "UserId 155 should watch MovieIds : [318, 58559, 858]\n",
            "UserId 156 should watch MovieIds : [527, 2959, 7361]\n",
            "UserId 157 should watch MovieIds : [318, 48516, 2329]\n",
            "UserId 158 should watch MovieIds : [2959, 858, 2571]\n",
            "UserId 159 should watch MovieIds : [58559, 593, 4226]\n",
            "UserId 160 should watch MovieIds : [318, 1197, 58559]\n",
            "UserId 161 should watch MovieIds : [858, 750, 2959]\n",
            "UserId 162 should watch MovieIds : [1221, 2329, 858]\n",
            "UserId 163 should watch MovieIds : [318, 2959, 527]\n",
            "UserId 164 should watch MovieIds : [318, 858, 50]\n",
            "UserId 165 should watch MovieIds : [318, 2959, 7361]\n",
            "UserId 166 should watch MovieIds : [750, 2502, 58559]\n",
            "UserId 167 should watch MovieIds : [50, 48516, 2571]\n",
            "UserId 168 should watch MovieIds : [318, 2959, 58559]\n",
            "UserId 169 should watch MovieIds : [541, 1089, 50]\n",
            "UserId 170 should watch MovieIds : [58559, 1193, 1196]\n",
            "UserId 171 should watch MovieIds : [50, 2959, 58559]\n",
            "UserId 172 should watch MovieIds : [608, 2959, 58559]\n",
            "UserId 173 should watch MovieIds : [318, 2959, 858]\n",
            "UserId 174 should watch MovieIds : [1136, 2959, 1197]\n",
            "UserId 175 should watch MovieIds : [318, 1196, 904]\n",
            "UserId 176 should watch MovieIds : [2959, 1198, 260]\n",
            "UserId 177 should watch MovieIds : [1204, 4011, 2019]\n",
            "UserId 178 should watch MovieIds : [858, 5618, 1089]\n",
            "UserId 179 should watch MovieIds : [2329, 527, 750]\n",
            "UserId 180 should watch MovieIds : [318, 50, 2329]\n",
            "UserId 181 should watch MovieIds : [2959, 318, 1198]\n",
            "UserId 182 should watch MovieIds : [8874, 68157, 364]\n",
            "UserId 183 should watch MovieIds : [2959, 527, 318]\n",
            "UserId 184 should watch MovieIds : [1196, 858, 318]\n",
            "UserId 185 should watch MovieIds : [318, 1221, 58559]\n",
            "UserId 186 should watch MovieIds : [858, 318, 2959]\n",
            "UserId 187 should watch MovieIds : [858, 1208, 4973]\n",
            "UserId 188 should watch MovieIds : [912, 318, 1208]\n",
            "UserId 189 should watch MovieIds : [1258, 7361, 1196]\n",
            "UserId 190 should watch MovieIds : [912, 750, 1210]\n",
            "UserId 191 should watch MovieIds : [1136, 7361, 1089]\n",
            "UserId 192 should watch MovieIds : [1196, 318, 58559]\n",
            "UserId 193 should watch MovieIds : [4973, 4226, 2329]\n",
            "UserId 194 should watch MovieIds : [318, 593, 50]\n",
            "UserId 195 should watch MovieIds : [1198, 750, 58559]\n",
            "UserId 196 should watch MovieIds : [318, 858, 50]\n",
            "UserId 197 should watch MovieIds : [1089, 750, 260]\n",
            "UserId 198 should watch MovieIds : [527, 1193, 48516]\n",
            "UserId 199 should watch MovieIds : [2959, 4993, 7153]\n",
            "UserId 200 should watch MovieIds : [1221, 858, 50]\n",
            "UserId 201 should watch MovieIds : [50, 318, 750]\n",
            "UserId 202 should watch MovieIds : [7361, 778, 2329]\n",
            "UserId 203 should watch MovieIds : [58559, 750, 1089]\n",
            "UserId 204 should watch MovieIds : [50, 908, 318]\n",
            "UserId 205 should watch MovieIds : [1199, 2959, 296]\n",
            "UserId 206 should watch MovieIds : [318, 858, 2959]\n",
            "UserId 207 should watch MovieIds : [527, 296, 1197]\n",
            "UserId 208 should watch MovieIds : [318, 1196, 1136]\n",
            "UserId 209 should watch MovieIds : [7361, 858, 111]\n",
            "UserId 210 should watch MovieIds : [318, 1089, 50]\n",
            "UserId 211 should watch MovieIds : [912, 1193, 1258]\n",
            "UserId 212 should watch MovieIds : [50, 1089, 858]\n",
            "UserId 213 should watch MovieIds : [318, 1221, 50]\n",
            "UserId 214 should watch MovieIds : [318, 2329, 1089]\n",
            "UserId 215 should watch MovieIds : [858, 2329, 1222]\n",
            "UserId 216 should watch MovieIds : [318, 858, 58559]\n",
            "UserId 217 should watch MovieIds : [527, 318, 750]\n",
            "UserId 218 should watch MovieIds : [541, 318, 2329]\n",
            "UserId 219 should watch MovieIds : [110, 923, 527]\n",
            "UserId 220 should watch MovieIds : [1208, 48516, 904]\n",
            "UserId 221 should watch MovieIds : [58559, 1221, 2329]\n",
            "UserId 222 should watch MovieIds : [318, 7153, 7361]\n",
            "UserId 223 should watch MovieIds : [50, 912, 1213]\n",
            "UserId 224 should watch MovieIds : [318, 912, 2571]\n",
            "UserId 225 should watch MovieIds : [2959, 318, 58559]\n",
            "UserId 226 should watch MovieIds : [318, 912, 50]\n",
            "UserId 227 should watch MovieIds : [1197, 1193, 48516]\n",
            "UserId 228 should watch MovieIds : [527, 2959, 1197]\n",
            "UserId 229 should watch MovieIds : [1221, 2959, 908]\n",
            "UserId 230 should watch MovieIds : [296, 2329, 4993]\n",
            "UserId 231 should watch MovieIds : [318, 2959, 912]\n",
            "UserId 232 should watch MovieIds : [541, 904, 2858]\n",
            "UserId 233 should watch MovieIds : [1196, 912, 904]\n",
            "UserId 234 should watch MovieIds : [318, 527, 1193]\n",
            "UserId 235 should watch MovieIds : [48516, 1198, 2329]\n",
            "UserId 236 should watch MovieIds : [750, 318, 1201]\n",
            "UserId 237 should watch MovieIds : [2959, 527, 1208]\n",
            "UserId 238 should watch MovieIds : [318, 58559, 260]\n",
            "UserId 239 should watch MovieIds : [1199, 1258, 4226]\n",
            "UserId 240 should watch MovieIds : [1196, 2329, 593]\n",
            "UserId 241 should watch MovieIds : [1196, 48516, 1197]\n",
            "UserId 242 should watch MovieIds : [50, 1198, 110]\n",
            "UserId 243 should watch MovieIds : [318, 50, 58559]\n",
            "UserId 244 should watch MovieIds : [2329, 1198, 4011]\n",
            "UserId 245 should watch MovieIds : [48516, 318, 750]\n",
            "UserId 246 should watch MovieIds : [318, 1221, 904]\n",
            "UserId 247 should watch MovieIds : [541, 750, 1208]\n",
            "UserId 248 should watch MovieIds : [318, 50, 1208]\n",
            "UserId 249 should watch MovieIds : [1136, 1197, 2324]\n",
            "UserId 250 should watch MovieIds : [858, 50, 750]\n",
            "UserId 251 should watch MovieIds : [1221, 58559, 904]\n",
            "UserId 252 should watch MovieIds : [318, 2959, 1089]\n",
            "UserId 253 should watch MovieIds : [318, 356, 2858]\n",
            "UserId 254 should watch MovieIds : [58559, 1208, 3147]\n",
            "UserId 255 should watch MovieIds : [318, 2329, 50]\n",
            "UserId 256 should watch MovieIds : [50, 58559, 1089]\n",
            "UserId 257 should watch MovieIds : [50, 2329, 318]\n",
            "UserId 258 should watch MovieIds : [5618, 858, 50]\n",
            "UserId 259 should watch MovieIds : [318, 2959, 296]\n",
            "UserId 260 should watch MovieIds : [858, 318, 58559]\n",
            "UserId 261 should watch MovieIds : [750, 858, 527]\n",
            "UserId 262 should watch MovieIds : [750, 1221, 58559]\n",
            "UserId 263 should watch MovieIds : [750, 1089, 50]\n",
            "UserId 264 should watch MovieIds : [318, 2959, 1089]\n",
            "UserId 265 should watch MovieIds : [858, 50, 2959]\n",
            "UserId 266 should watch MovieIds : [318, 48516, 1193]\n",
            "UserId 267 should watch MovieIds : [318, 1221, 750]\n",
            "UserId 268 should watch MovieIds : [318, 912, 58559]\n",
            "UserId 269 should watch MovieIds : [318, 296, 2959]\n",
            "UserId 270 should watch MovieIds : [858, 318, 1221]\n",
            "UserId 271 should watch MovieIds : [318, 750, 2959]\n",
            "UserId 272 should watch MovieIds : [858, 2959, 356]\n",
            "UserId 273 should watch MovieIds : [58559, 1089, 318]\n",
            "UserId 274 should watch MovieIds : [4973, 1252, 1617]\n",
            "UserId 275 should watch MovieIds : [1196, 2028, 7361]\n",
            "UserId 276 should watch MovieIds : [318, 5618, 2959]\n",
            "UserId 277 should watch MovieIds : [318, 1196, 750]\n",
            "UserId 278 should watch MovieIds : [1089, 2959, 6377]\n",
            "UserId 279 should watch MovieIds : [1089, 750, 1221]\n",
            "UserId 280 should watch MovieIds : [527, 318, 1196]\n",
            "UserId 281 should watch MovieIds : [318, 527, 593]\n",
            "UserId 282 should watch MovieIds : [5618, 1196, 7361]\n",
            "UserId 283 should watch MovieIds : [1089, 50, 1221]\n",
            "UserId 284 should watch MovieIds : [1199, 2959, 858]\n",
            "UserId 285 should watch MovieIds : [318, 2329, 541]\n",
            "UserId 286 should watch MovieIds : [318, 50, 260]\n",
            "UserId 287 should watch MovieIds : [318, 2571, 356]\n",
            "UserId 288 should watch MovieIds : [2858, 50, 858]\n",
            "UserId 289 should watch MovieIds : [318, 858, 2959]\n",
            "UserId 290 should watch MovieIds : [1197, 356, 58559]\n",
            "UserId 291 should watch MovieIds : [50, 1089, 318]\n",
            "UserId 292 should watch MovieIds : [750, 7361, 1089]\n",
            "UserId 293 should watch MovieIds : [318, 750, 527]\n",
            "UserId 294 should watch MovieIds : [318, 7361, 2571]\n",
            "UserId 295 should watch MovieIds : [48516, 750, 2502]\n",
            "UserId 296 should watch MovieIds : [2858, 858, 750]\n",
            "UserId 297 should watch MovieIds : [318, 527, 858]\n",
            "UserId 298 should watch MovieIds : [2329, 1258, 1276]\n",
            "UserId 299 should watch MovieIds : [1136, 318, 1089]\n",
            "UserId 300 should watch MovieIds : [750, 1193, 296]\n",
            "UserId 301 should watch MovieIds : [318, 2959, 858]\n",
            "UserId 302 should watch MovieIds : [318, 58559, 50]\n",
            "UserId 303 should watch MovieIds : [318, 1193, 1221]\n",
            "UserId 304 should watch MovieIds : [50, 58559, 858]\n",
            "UserId 305 should watch MovieIds : [7361, 923, 1208]\n",
            "UserId 306 should watch MovieIds : [318, 904, 296]\n",
            "UserId 307 should watch MovieIds : [750, 912, 2028]\n",
            "UserId 308 should watch MovieIds : [3949, 750, 2329]\n",
            "UserId 309 should watch MovieIds : [2959, 750, 48516]\n",
            "UserId 310 should watch MovieIds : [318, 1197, 2858]\n",
            "UserId 311 should watch MovieIds : [318, 2959, 527]\n",
            "UserId 312 should watch MovieIds : [318, 48516, 50]\n",
            "UserId 313 should watch MovieIds : [48516, 527, 5618]\n",
            "UserId 314 should watch MovieIds : [858, 750, 2858]\n",
            "UserId 315 should watch MovieIds : [318, 541, 904]\n",
            "UserId 316 should watch MovieIds : [318, 1089, 50]\n",
            "UserId 317 should watch MovieIds : [1198, 5618, 1196]\n",
            "UserId 318 should watch MovieIds : [48516, 858, 1197]\n",
            "UserId 319 should watch MovieIds : [50, 1196, 1270]\n",
            "UserId 320 should watch MovieIds : [318, 2858, 2329]\n",
            "UserId 321 should watch MovieIds : [527, 58559, 50]\n",
            "UserId 322 should watch MovieIds : [48516, 3147, 1197]\n",
            "UserId 323 should watch MovieIds : [2959, 593, 858]\n",
            "UserId 324 should watch MovieIds : [50, 318, 58559]\n",
            "UserId 325 should watch MovieIds : [1198, 2959, 50]\n",
            "UserId 326 should watch MovieIds : [1136, 58559, 1196]\n",
            "UserId 327 should watch MovieIds : [3578, 3147, 1196]\n",
            "UserId 328 should watch MovieIds : [4993, 7361, 541]\n",
            "UserId 329 should watch MovieIds : [58559, 2571, 1704]\n",
            "UserId 330 should watch MovieIds : [1704, 527, 4973]\n",
            "UserId 331 should watch MovieIds : [1193, 356, 1221]\n",
            "UserId 332 should watch MovieIds : [1198, 1193, 48516]\n",
            "UserId 333 should watch MovieIds : [318, 7361, 2858]\n",
            "UserId 334 should watch MovieIds : [912, 1193, 858]\n",
            "UserId 335 should watch MovieIds : [2329, 4973, 527]\n",
            "UserId 336 should watch MovieIds : [58559, 541, 1270]\n",
            "UserId 337 should watch MovieIds : [58559, 912, 750]\n",
            "UserId 338 should watch MovieIds : [5618, 4973, 7361]\n",
            "UserId 339 should watch MovieIds : [50, 1196, 1136]\n",
            "UserId 340 should watch MovieIds : [858, 58559, 1089]\n",
            "UserId 341 should watch MovieIds : [318, 7361, 1196]\n",
            "UserId 342 should watch MovieIds : [318, 858, 527]\n",
            "UserId 343 should watch MovieIds : [1136, 1197, 750]\n",
            "UserId 344 should watch MovieIds : [296, 750, 541]\n",
            "UserId 345 should watch MovieIds : [858, 4226, 50]\n",
            "UserId 346 should watch MovieIds : [318, 1089, 7361]\n",
            "UserId 347 should watch MovieIds : [2959, 318, 50]\n",
            "UserId 348 should watch MovieIds : [1198, 48516, 7361]\n",
            "UserId 349 should watch MovieIds : [318, 58559, 4226]\n",
            "UserId 350 should watch MovieIds : [318, 527, 2959]\n",
            "UserId 351 should watch MovieIds : [318, 2329, 750]\n",
            "UserId 352 should watch MovieIds : [750, 1617, 110]\n",
            "UserId 353 should watch MovieIds : [750, 912, 50]\n",
            "UserId 354 should watch MovieIds : [1221, 1198, 4226]\n",
            "UserId 355 should watch MovieIds : [318, 1221, 50]\n",
            "UserId 356 should watch MovieIds : [527, 260, 858]\n",
            "UserId 357 should watch MovieIds : [1193, 750, 4993]\n",
            "UserId 358 should watch MovieIds : [318, 2329, 1196]\n",
            "UserId 359 should watch MovieIds : [1221, 1197, 318]\n",
            "UserId 360 should watch MovieIds : [318, 750, 5618]\n",
            "UserId 361 should watch MovieIds : [58559, 48516, 50]\n",
            "UserId 362 should watch MovieIds : [5618, 541, 1198]\n",
            "UserId 363 should watch MovieIds : [2329, 750, 1193]\n",
            "UserId 364 should watch MovieIds : [50, 318, 58559]\n",
            "UserId 365 should watch MovieIds : [2959, 50, 2329]\n",
            "UserId 366 should watch MovieIds : [318, 1136, 1221]\n",
            "UserId 367 should watch MovieIds : [2959, 7361, 750]\n",
            "UserId 368 should watch MovieIds : [318, 923, 2959]\n",
            "UserId 369 should watch MovieIds : [318, 527, 296]\n",
            "UserId 370 should watch MovieIds : [858, 750, 1258]\n",
            "UserId 371 should watch MovieIds : [318, 2329, 296]\n",
            "UserId 372 should watch MovieIds : [2959, 912, 750]\n",
            "UserId 373 should watch MovieIds : [858, 58559, 1198]\n",
            "UserId 374 should watch MovieIds : [2329, 1089, 4995]\n",
            "UserId 375 should watch MovieIds : [50, 904, 260]\n",
            "UserId 376 should watch MovieIds : [318, 58559, 2959]\n",
            "UserId 377 should watch MovieIds : [318, 7361, 1193]\n",
            "UserId 378 should watch MovieIds : [1089, 750, 50]\n",
            "UserId 379 should watch MovieIds : [58559, 1221, 1198]\n",
            "UserId 380 should watch MovieIds : [2329, 3147, 904]\n",
            "UserId 381 should watch MovieIds : [858, 296, 593]\n",
            "UserId 382 should watch MovieIds : [1213, 1089, 1221]\n",
            "UserId 383 should watch MovieIds : [318, 1197, 2959]\n",
            "UserId 384 should watch MovieIds : [318, 260, 593]\n",
            "UserId 385 should watch MovieIds : [2959, 527, 4993]\n",
            "UserId 386 should watch MovieIds : [1213, 2329, 750]\n",
            "UserId 387 should watch MovieIds : [58559, 527, 7361]\n",
            "UserId 388 should watch MovieIds : [318, 2959, 296]\n",
            "UserId 389 should watch MovieIds : [318, 750, 50]\n",
            "UserId 390 should watch MovieIds : [296, 318, 2019]\n",
            "UserId 391 should watch MovieIds : [58559, 1198, 7361]\n",
            "UserId 392 should watch MovieIds : [318, 50, 2959]\n",
            "UserId 393 should watch MovieIds : [1197, 318, 2028]\n",
            "UserId 394 should watch MovieIds : [1089, 58559, 318]\n",
            "UserId 395 should watch MovieIds : [318, 2028, 2959]\n",
            "UserId 396 should watch MovieIds : [1196, 58559, 904]\n",
            "UserId 397 should watch MovieIds : [318, 541, 858]\n",
            "UserId 398 should watch MovieIds : [296, 318, 2959]\n",
            "UserId 399 should watch MovieIds : [318, 111, 904]\n",
            "UserId 400 should watch MovieIds : [7361, 1208, 904]\n",
            "UserId 401 should watch MovieIds : [318, 858, 2959]\n",
            "UserId 402 should watch MovieIds : [318, 1198, 4973]\n",
            "UserId 403 should watch MovieIds : [4973, 318, 593]\n",
            "UserId 404 should watch MovieIds : [2959, 1221, 750]\n",
            "UserId 405 should watch MovieIds : [318, 527, 260]\n",
            "UserId 406 should watch MovieIds : [2959, 318, 858]\n",
            "UserId 407 should watch MovieIds : [318, 7361, 527]\n",
            "UserId 408 should watch MovieIds : [858, 7361, 2959]\n",
            "UserId 409 should watch MovieIds : [2959, 7361, 527]\n",
            "UserId 410 should watch MovieIds : [4993, 50, 1208]\n",
            "UserId 411 should watch MovieIds : [1193, 58559, 904]\n",
            "UserId 412 should watch MovieIds : [318, 2959, 7361]\n",
            "UserId 413 should watch MovieIds : [4973, 608, 1196]\n",
            "UserId 414 should watch MovieIds : [1258, 2324, 3468]\n",
            "UserId 415 should watch MovieIds : [5952, 1199, 1089]\n",
            "UserId 416 should watch MovieIds : [58559, 1197, 1704]\n",
            "UserId 417 should watch MovieIds : [50, 541, 260]\n",
            "UserId 418 should watch MovieIds : [1208, 2028, 1193]\n",
            "UserId 419 should watch MovieIds : [1198, 7153, 4973]\n",
            "UserId 420 should watch MovieIds : [50, 1221, 1089]\n",
            "UserId 421 should watch MovieIds : [50, 1196, 858]\n",
            "UserId 422 should watch MovieIds : [58559, 527, 1197]\n",
            "UserId 423 should watch MovieIds : [1198, 1089, 2959]\n",
            "UserId 424 should watch MovieIds : [1196, 2028, 904]\n",
            "UserId 425 should watch MovieIds : [904, 541, 48516]\n",
            "UserId 426 should watch MovieIds : [2571, 1270, 4973]\n",
            "UserId 427 should watch MovieIds : [318, 527, 1196]\n",
            "UserId 428 should watch MovieIds : [318, 50, 58559]\n",
            "UserId 429 should watch MovieIds : [318, 858, 48516]\n",
            "UserId 430 should watch MovieIds : [527, 50, 58559]\n",
            "UserId 431 should watch MovieIds : [318, 7361, 1089]\n",
            "UserId 432 should watch MovieIds : [4011, 1089, 1136]\n",
            "UserId 433 should watch MovieIds : [750, 260, 356]\n",
            "UserId 434 should watch MovieIds : [1617, 3275, 1204]\n",
            "UserId 435 should watch MovieIds : [904, 1213, 7153]\n",
            "UserId 436 should watch MovieIds : [1136, 2959, 296]\n",
            "UserId 437 should watch MovieIds : [2959, 2858, 1089]\n",
            "UserId 438 should watch MovieIds : [50, 1221, 1198]\n",
            "UserId 439 should watch MovieIds : [2959, 296, 1136]\n",
            "UserId 440 should watch MovieIds : [318, 2959, 912]\n",
            "UserId 441 should watch MovieIds : [318, 48516, 750]\n",
            "UserId 442 should watch MovieIds : [318, 58559, 2959]\n",
            "UserId 443 should watch MovieIds : [50, 58559, 527]\n",
            "UserId 444 should watch MovieIds : [58559, 260, 858]\n",
            "UserId 445 should watch MovieIds : [318, 1213, 858]\n",
            "UserId 446 should watch MovieIds : [318, 1196, 2959]\n",
            "UserId 447 should watch MovieIds : [1089, 5618, 2329]\n",
            "UserId 448 should watch MovieIds : [750, 527, 2028]\n",
            "UserId 449 should watch MovieIds : [296, 750, 1213]\n",
            "UserId 450 should watch MovieIds : [318, 50, 1089]\n",
            "UserId 451 should watch MovieIds : [318, 1221, 1193]\n",
            "UserId 452 should watch MovieIds : [50, 296, 593]\n",
            "UserId 453 should watch MovieIds : [7361, 1208, 48516]\n",
            "UserId 454 should watch MovieIds : [2959, 1196, 260]\n",
            "UserId 455 should watch MovieIds : [2959, 912, 2571]\n",
            "UserId 456 should watch MovieIds : [318, 50, 48516]\n",
            "UserId 457 should watch MovieIds : [318, 50, 1198]\n",
            "UserId 458 should watch MovieIds : [858, 58559, 1221]\n",
            "UserId 459 should watch MovieIds : [318, 1089, 858]\n",
            "UserId 460 should watch MovieIds : [1197, 750, 1193]\n",
            "UserId 461 should watch MovieIds : [2959, 858, 296]\n",
            "UserId 462 should watch MovieIds : [2329, 7361, 3147]\n",
            "UserId 463 should watch MovieIds : [318, 2959, 58559]\n",
            "UserId 464 should watch MovieIds : [1089, 7361, 1193]\n",
            "UserId 465 should watch MovieIds : [2959, 318, 1193]\n",
            "UserId 466 should watch MovieIds : [858, 50, 110]\n",
            "UserId 467 should watch MovieIds : [318, 904, 7361]\n",
            "UserId 468 should watch MovieIds : [58559, 48516, 1704]\n",
            "UserId 469 should watch MovieIds : [2329, 4993, 2959]\n",
            "UserId 470 should watch MovieIds : [750, 904, 48516]\n",
            "UserId 471 should watch MovieIds : [318, 1196, 50]\n",
            "UserId 472 should watch MovieIds : [1196, 608, 2571]\n",
            "UserId 473 should watch MovieIds : [1213, 858, 1193]\n",
            "UserId 474 should watch MovieIds : [58559, 68157, 3275]\n",
            "UserId 475 should watch MovieIds : [527, 1089, 2329]\n",
            "UserId 476 should watch MovieIds : [2329, 7361, 858]\n",
            "UserId 477 should watch MovieIds : [2329, 50, 111]\n",
            "UserId 478 should watch MovieIds : [318, 2959, 858]\n",
            "UserId 479 should watch MovieIds : [2959, 318, 50]\n",
            "UserId 480 should watch MovieIds : [912, 904, 58559]\n",
            "UserId 481 should watch MovieIds : [318, 296, 356]\n",
            "UserId 482 should watch MovieIds : [1221, 318, 1089]\n",
            "UserId 483 should watch MovieIds : [593, 1213, 541]\n",
            "UserId 484 should watch MovieIds : [50, 858, 296]\n",
            "UserId 485 should watch MovieIds : [318, 1196, 50]\n",
            "UserId 486 should watch MovieIds : [58559, 1193, 1197]\n",
            "UserId 487 should watch MovieIds : [48516, 58559, 1221]\n",
            "UserId 488 should watch MovieIds : [1089, 1208, 296]\n",
            "UserId 489 should watch MovieIds : [318, 858, 1221]\n",
            "UserId 490 should watch MovieIds : [318, 1617, 2329]\n",
            "UserId 491 should watch MovieIds : [318, 527, 260]\n",
            "UserId 492 should watch MovieIds : [2329, 318, 1136]\n",
            "UserId 493 should watch MovieIds : [318, 527, 593]\n",
            "UserId 494 should watch MovieIds : [318, 750, 58559]\n",
            "UserId 495 should watch MovieIds : [4973, 1198, 1136]\n",
            "UserId 496 should watch MovieIds : [2959, 1208, 2329]\n",
            "UserId 497 should watch MovieIds : [1089, 1199, 527]\n",
            "UserId 498 should watch MovieIds : [1221, 2959, 608]\n",
            "UserId 499 should watch MovieIds : [318, 858, 1089]\n",
            "UserId 500 should watch MovieIds : [318, 527, 1197]\n",
            "UserId 501 should watch MovieIds : [1221, 2329, 1198]\n",
            "UserId 502 should watch MovieIds : [2329, 4993, 858]\n",
            "UserId 503 should watch MovieIds : [750, 110, 912]\n",
            "UserId 504 should watch MovieIds : [318, 904, 858]\n",
            "UserId 505 should watch MovieIds : [58559, 457, 1221]\n",
            "UserId 506 should watch MovieIds : [2959, 58559, 1221]\n",
            "UserId 507 should watch MovieIds : [318, 50, 858]\n",
            "UserId 508 should watch MovieIds : [318, 1198, 4993]\n",
            "UserId 509 should watch MovieIds : [2959, 318, 608]\n",
            "UserId 510 should watch MovieIds : [318, 48516, 296]\n",
            "UserId 511 should watch MovieIds : [750, 858, 7361]\n",
            "UserId 512 should watch MovieIds : [541, 58559, 1196]\n",
            "UserId 513 should watch MovieIds : [50, 1196, 2571]\n",
            "UserId 514 should watch MovieIds : [318, 2329, 1204]\n",
            "UserId 515 should watch MovieIds : [296, 4993, 1136]\n",
            "UserId 516 should watch MovieIds : [296, 527, 1259]\n",
            "UserId 517 should watch MovieIds : [2959, 2329, 296]\n",
            "UserId 518 should watch MovieIds : [318, 2959, 858]\n",
            "UserId 519 should watch MovieIds : [110, 2959, 858]\n",
            "UserId 520 should watch MovieIds : [904, 2959, 912]\n",
            "UserId 521 should watch MovieIds : [318, 1221, 541]\n",
            "UserId 522 should watch MovieIds : [527, 1258, 904]\n",
            "UserId 523 should watch MovieIds : [50, 1196, 858]\n",
            "UserId 524 should watch MovieIds : [858, 904, 48516]\n",
            "UserId 525 should watch MovieIds : [296, 1089, 858]\n",
            "UserId 526 should watch MovieIds : [50, 1193, 858]\n",
            "UserId 527 should watch MovieIds : [318, 858, 50]\n",
            "UserId 528 should watch MovieIds : [50, 904, 1203]\n",
            "UserId 529 should watch MovieIds : [318, 1196, 7361]\n",
            "UserId 530 should watch MovieIds : [318, 2959, 58559]\n",
            "UserId 531 should watch MovieIds : [318, 2959, 2028]\n",
            "UserId 532 should watch MovieIds : [296, 1089, 904]\n",
            "UserId 533 should watch MovieIds : [318, 1090, 1208]\n",
            "UserId 534 should watch MovieIds : [318, 2959, 50]\n",
            "UserId 535 should watch MovieIds : [318, 296, 50]\n",
            "UserId 536 should watch MovieIds : [2329, 2571, 1258]\n",
            "UserId 537 should watch MovieIds : [1221, 1193, 7361]\n",
            "UserId 538 should watch MovieIds : [318, 4993, 2329]\n",
            "UserId 539 should watch MovieIds : [2959, 1213, 593]\n",
            "UserId 540 should watch MovieIds : [858, 318, 750]\n",
            "UserId 541 should watch MovieIds : [1136, 912, 2959]\n",
            "UserId 542 should watch MovieIds : [1136, 1208, 904]\n",
            "UserId 543 should watch MovieIds : [2329, 4993, 1258]\n",
            "UserId 544 should watch MovieIds : [58559, 608, 1221]\n",
            "UserId 545 should watch MovieIds : [318, 750, 541]\n",
            "UserId 546 should watch MovieIds : [318, 58559, 1221]\n",
            "UserId 547 should watch MovieIds : [912, 858, 260]\n",
            "UserId 548 should watch MovieIds : [2959, 2329, 858]\n",
            "UserId 549 should watch MovieIds : [356, 2329, 2858]\n",
            "UserId 550 should watch MovieIds : [2329, 48516, 50]\n",
            "UserId 551 should watch MovieIds : [50, 1221, 527]\n",
            "UserId 552 should watch MovieIds : [318, 1197, 1213]\n",
            "UserId 553 should watch MovieIds : [2028, 318, 527]\n",
            "UserId 554 should watch MovieIds : [318, 2959, 1221]\n",
            "UserId 555 should watch MovieIds : [1136, 527, 7361]\n",
            "UserId 556 should watch MovieIds : [318, 2959, 260]\n",
            "UserId 557 should watch MovieIds : [2959, 904, 356]\n",
            "UserId 558 should watch MovieIds : [318, 1198, 7153]\n",
            "UserId 559 should watch MovieIds : [50, 858, 1198]\n",
            "UserId 560 should watch MovieIds : [318, 541, 858]\n",
            "UserId 561 should watch MovieIds : [750, 904, 858]\n",
            "UserId 562 should watch MovieIds : [750, 48516, 1221]\n",
            "UserId 563 should watch MovieIds : [318, 2959, 7361]\n",
            "UserId 564 should watch MovieIds : [58559, 50, 608]\n",
            "UserId 565 should watch MovieIds : [1196, 912, 2858]\n",
            "UserId 566 should watch MovieIds : [4993, 2329, 1221]\n",
            "UserId 567 should watch MovieIds : [2959, 318, 1089]\n",
            "UserId 568 should watch MovieIds : [318, 527, 1197]\n",
            "UserId 569 should watch MovieIds : [2329, 318, 1221]\n",
            "UserId 570 should watch MovieIds : [750, 2329, 296]\n",
            "UserId 571 should watch MovieIds : [318, 527, 1208]\n",
            "UserId 572 should watch MovieIds : [50, 2959, 296]\n",
            "UserId 573 should watch MovieIds : [904, 750, 527]\n",
            "UserId 574 should watch MovieIds : [1193, 1208, 4993]\n",
            "UserId 575 should watch MovieIds : [2959, 527, 58559]\n",
            "UserId 576 should watch MovieIds : [1270, 318, 904]\n",
            "UserId 577 should watch MovieIds : [2959, 1193, 2329]\n",
            "UserId 578 should watch MovieIds : [318, 1213, 260]\n",
            "UserId 579 should watch MovieIds : [318, 296, 858]\n",
            "UserId 580 should watch MovieIds : [1197, 60069, 904]\n",
            "UserId 581 should watch MovieIds : [58559, 48516, 1089]\n",
            "UserId 582 should watch MovieIds : [318, 2329, 750]\n",
            "UserId 583 should watch MovieIds : [318, 2959, 912]\n",
            "UserId 584 should watch MovieIds : [318, 58559, 1704]\n",
            "UserId 585 should watch MovieIds : [318, 750, 1198]\n",
            "UserId 586 should watch MovieIds : [1197, 2959, 48516]\n",
            "UserId 587 should watch MovieIds : [318, 1089, 858]\n",
            "UserId 588 should watch MovieIds : [58559, 750, 1193]\n",
            "UserId 589 should watch MovieIds : [1221, 858, 2959]\n",
            "UserId 590 should watch MovieIds : [7361, 1704, 1199]\n",
            "UserId 591 should watch MovieIds : [318, 50, 1196]\n",
            "UserId 592 should watch MovieIds : [50, 2959, 541]\n",
            "UserId 593 should watch MovieIds : [1201, 1089, 296]\n",
            "UserId 594 should watch MovieIds : [58559, 1089, 750]\n",
            "UserId 595 should watch MovieIds : [318, 4226, 858]\n",
            "UserId 596 should watch MovieIds : [318, 48516, 1193]\n",
            "UserId 597 should watch MovieIds : [318, 750, 7361]\n",
            "UserId 598 should watch MovieIds : [318, 50, 904]\n",
            "UserId 599 should watch MovieIds : [527, 1193, 908]\n",
            "UserId 600 should watch MovieIds : [1193, 4011, 1204]\n",
            "UserId 601 should watch MovieIds : [1089, 750, 593]\n",
            "UserId 602 should watch MovieIds : [1196, 2959, 7361]\n",
            "UserId 603 should watch MovieIds : [50, 1136, 1204]\n",
            "UserId 604 should watch MovieIds : [318, 1221, 4973]\n",
            "UserId 605 should watch MovieIds : [318, 858, 2959]\n",
            "UserId 606 should watch MovieIds : [1197, 58559, 608]\n",
            "UserId 607 should watch MovieIds : [58559, 912, 1204]\n",
            "UserId 608 should watch MovieIds : [58559, 1198, 1199]\n",
            "UserId 609 should watch MovieIds : [527, 58559, 1221]\n",
            "UserId 610 should watch MovieIds : [1193, 1617, 2324]\n"
          ],
          "name": "stdout"
        }
      ]
    },
    {
      "cell_type": "code",
      "metadata": {
        "id": "LUWFhambcyoa"
      },
      "source": [
        ""
      ],
      "execution_count": null,
      "outputs": []
    }
  ]
}